{
  "cells": [
    {
      "cell_type": "markdown",
      "metadata": {
        "id": "view-in-github",
        "colab_type": "text"
      },
      "source": [
        "<a href=\"https://colab.research.google.com/github/wooihaw/k-youth-251101/blob/main/Lab_2/Lab_2b.ipynb\" target=\"_parent\"><img src=\"https://colab.research.google.com/assets/colab-badge.svg\" alt=\"Open In Colab\"/></a>"
      ]
    },
    {
      "cell_type": "markdown",
      "id": "bbab6aff-a5c5-41c1-86d0-d39b85c692dd",
      "metadata": {
        "id": "bbab6aff-a5c5-41c1-86d0-d39b85c692dd"
      },
      "source": [
        "# Lab 2b\n",
        "### Palmer Penguin Dataset\n",
        "The Palmer Penguin dataset is a popular dataset used for data science and machine learning, particularly for classification tasks. It provides information on three species of penguins: Adelie, Chinstrap, and Gentoo, collected from three islands in the Palmer Archipelago, Antarctica. The dataset is often used as an alternative to the Iris dataset for demonstrating data analysis and machine learning techniques.\n",
        "\n",
        "<img src=\"https://allisonhorst.github.io/palmerpenguins/reference/figures/lter_penguins.png\" width=\"400\" height=\"200\">\n",
        "\n",
        "### Description of the Dataset\n",
        "The Palmer Penguin dataset contains the following columns:\n",
        "\n",
        "- Species: The species of the penguin (Adelie, Chinstrap, Gentoo).\n",
        "- Island: The island where the penguin was observed (Torgersen, Biscoe, Dream).\n",
        "- Bill Length (mm): The length of the penguin's culmen (the upper ridge of the beak) in millimeters.\n",
        "- Bill Depth (mm): The depth of the penguin's culmen in millimeters.\n",
        "- Flipper Length (mm): The length of the penguin's flipper in millimeters.\n",
        "- Body Mass (g): The body mass of the penguin in grams.\n",
        "- Gender: The gender of the penguin (male, female).\n",
        "- Year: The year the observation was made."
      ]
    },
    {
      "cell_type": "code",
      "execution_count": null,
      "id": "cdb17c42-c202-4cea-86d3-3164bf08c6ff",
      "metadata": {
        "id": "cdb17c42-c202-4cea-86d3-3164bf08c6ff"
      },
      "outputs": [],
      "source": [
        "# Initialization\n",
        "%matplotlib inline\n",
        "from warnings import filterwarnings\n",
        "filterwarnings(\"ignore\")"
      ]
    },
    {
      "cell_type": "code",
      "execution_count": null,
      "id": "affd8d13-be82-4ff0-a360-0e19be925ce4",
      "metadata": {
        "id": "affd8d13-be82-4ff0-a360-0e19be925ce4"
      },
      "outputs": [],
      "source": [
        "# Import necessary libraries\n",
        "import pandas as pd\n",
        "import matplotlib.pyplot as plt\n",
        "from sklearn.neighbors import KNeighborsClassifier\n",
        "from sklearn.linear_model import LogisticRegression\n",
        "from sklearn.naive_bayes import GaussianNB\n",
        "from sklearn.svm import SVC\n",
        "from sklearn.tree import DecisionTreeClassifier\n",
        "from sklearn.ensemble import RandomForestClassifier\n",
        "from sklearn.ensemble import GradientBoostingClassifier\n",
        "from sklearn.neural_network import MLPClassifier\n",
        "from sklearn.model_selection import train_test_split as split, StratifiedKFold, cross_val_score\n",
        "from sklearn.preprocessing import MinMaxScaler\n",
        "from sklearn.metrics import classification_report, ConfusionMatrixDisplay\n",
        "\n",
        "df = pd.read_csv(\"https://raw.githubusercontent.com/wooihaw/datasets/main/penguins.csv\")"
      ]
    },
    {
      "cell_type": "markdown",
      "id": "30a5856d-15a3-4d14-bdc9-ebaa40c52cf7",
      "metadata": {
        "id": "30a5856d-15a3-4d14-bdc9-ebaa40c52cf7"
      },
      "source": [
        "To do:\n",
        "- Print the first 5 rows of dataset."
      ]
    },
    {
      "cell_type": "code",
      "execution_count": null,
      "id": "2e832407-b785-408f-96ff-79115122bcff",
      "metadata": {
        "id": "2e832407-b785-408f-96ff-79115122bcff"
      },
      "outputs": [],
      "source": []
    },
    {
      "cell_type": "markdown",
      "id": "38b05791-c0f0-4e79-bf92-58662aa11222",
      "metadata": {
        "id": "38b05791-c0f0-4e79-bf92-58662aa11222"
      },
      "source": [
        "To do:\n",
        "- Print the descriptive statistics of the dataset."
      ]
    },
    {
      "cell_type": "code",
      "execution_count": null,
      "id": "405aa3c1-3811-45fc-ae72-0414b0cc8381",
      "metadata": {
        "id": "405aa3c1-3811-45fc-ae72-0414b0cc8381"
      },
      "outputs": [],
      "source": []
    },
    {
      "cell_type": "markdown",
      "id": "11381b73-35e1-4bdc-b502-0830f93d50ea",
      "metadata": {
        "id": "11381b73-35e1-4bdc-b502-0830f93d50ea"
      },
      "source": [
        "To do:\n",
        "- Plot the boxplot for \"bill_length_mm\", \"bill_depth_mm\", \"flipper_length_mm\", \"body_mass_g\""
      ]
    },
    {
      "cell_type": "code",
      "execution_count": null,
      "id": "ef50b305-93e6-41df-8e93-ca505d187576",
      "metadata": {
        "id": "ef50b305-93e6-41df-8e93-ca505d187576"
      },
      "outputs": [],
      "source": []
    },
    {
      "cell_type": "markdown",
      "id": "f1c8abc1-fe60-4323-911e-f1034f4e25b0",
      "metadata": {
        "id": "f1c8abc1-fe60-4323-911e-f1034f4e25b0"
      },
      "source": [
        "To do:\n",
        "- Check the class breakdown (number of data samples per class)"
      ]
    },
    {
      "cell_type": "code",
      "execution_count": null,
      "id": "5ac4e351-64b7-4ac4-9495-8842f668ed5a",
      "metadata": {
        "id": "5ac4e351-64b7-4ac4-9495-8842f668ed5a"
      },
      "outputs": [],
      "source": []
    },
    {
      "cell_type": "markdown",
      "id": "371dc9ae-2cc5-47eb-82da-a3082c53093a",
      "metadata": {
        "id": "371dc9ae-2cc5-47eb-82da-a3082c53093a"
      },
      "source": [
        "To do:\n",
        "- Check the number of missing values in each column."
      ]
    },
    {
      "cell_type": "code",
      "execution_count": null,
      "id": "03dccc6e-92f1-4830-ad86-b7d6873bc298",
      "metadata": {
        "id": "03dccc6e-92f1-4830-ad86-b7d6873bc298"
      },
      "outputs": [],
      "source": []
    },
    {
      "cell_type": "markdown",
      "id": "df14cf44-4478-497d-a48c-e94be088a836",
      "metadata": {
        "id": "df14cf44-4478-497d-a48c-e94be088a836"
      },
      "source": [
        "To do:\n",
        "- If there are  missing values, impute them using statistics (median, mean, mode)."
      ]
    },
    {
      "cell_type": "code",
      "execution_count": null,
      "id": "a44b7c0b-2fbf-468f-89cd-3c854cd5c158",
      "metadata": {
        "id": "a44b7c0b-2fbf-468f-89cd-3c854cd5c158"
      },
      "outputs": [],
      "source": []
    },
    {
      "cell_type": "markdown",
      "id": "062f4dea-bcd9-427c-acb4-0e3bcec39755",
      "metadata": {
        "id": "062f4dea-bcd9-427c-acb4-0e3bcec39755"
      },
      "source": [
        "To do:\n",
        "- Perform categorical encoding"
      ]
    },
    {
      "cell_type": "code",
      "execution_count": null,
      "id": "68a4ffdb-78da-47b2-98ea-961a2f02426d",
      "metadata": {
        "id": "68a4ffdb-78da-47b2-98ea-961a2f02426d"
      },
      "outputs": [],
      "source": []
    },
    {
      "cell_type": "markdown",
      "id": "b12e2325-1473-4658-ba4c-a83e3395d0db",
      "metadata": {
        "id": "b12e2325-1473-4658-ba4c-a83e3395d0db"
      },
      "source": [
        "To do:\n",
        "- Separate into featues (X) and target (y)"
      ]
    },
    {
      "cell_type": "code",
      "execution_count": null,
      "id": "ab726c32-2ba8-403c-a4c5-7d7aa9bc9f1f",
      "metadata": {
        "id": "ab726c32-2ba8-403c-a4c5-7d7aa9bc9f1f"
      },
      "outputs": [],
      "source": []
    },
    {
      "cell_type": "markdown",
      "id": "479ee976-9196-4cb5-8de5-60bd78e51c10",
      "metadata": {
        "id": "479ee976-9196-4cb5-8de5-60bd78e51c10"
      },
      "source": [
        "To do:\n",
        "- Split into training (75%) and testing (25%) sets using stratified hold-out validation"
      ]
    },
    {
      "cell_type": "code",
      "execution_count": null,
      "id": "34540674-5f5b-4f76-9415-e2dae7400e6e",
      "metadata": {
        "id": "34540674-5f5b-4f76-9415-e2dae7400e6e"
      },
      "outputs": [],
      "source": []
    },
    {
      "cell_type": "markdown",
      "id": "48a677b8-b2d3-4fed-a45b-146b0839524a",
      "metadata": {
        "id": "48a677b8-b2d3-4fed-a45b-146b0839524a"
      },
      "source": [
        "To do:\n",
        "- Use spotchecking technique to evaluate the performance of kNN, logistic regression, Gaussian naive bayes, support vector machine, decision tree, random forest, gradient boosting trees and MLP classifiers.\n",
        "- Use stratified k-folds cross-validation with 5 folds.\n",
        "- Print the mean and standard deviation of the accuracies"
      ]
    },
    {
      "cell_type": "code",
      "execution_count": null,
      "id": "2fd98dbf-17ba-4837-994e-e8a054e8744e",
      "metadata": {
        "id": "2fd98dbf-17ba-4837-994e-e8a054e8744e"
      },
      "outputs": [],
      "source": []
    },
    {
      "cell_type": "markdown",
      "id": "30d501e3-675f-4611-87bd-b55e1f120f78",
      "metadata": {
        "id": "30d501e3-675f-4611-87bd-b55e1f120f78"
      },
      "source": [
        "To:\n",
        "- Apply Min-max scaling to the features"
      ]
    },
    {
      "cell_type": "code",
      "execution_count": null,
      "id": "8ada4e63-44d3-428c-ace0-8fd4631b6f59",
      "metadata": {
        "id": "8ada4e63-44d3-428c-ace0-8fd4631b6f59"
      },
      "outputs": [],
      "source": []
    },
    {
      "cell_type": "markdown",
      "id": "81c9b73f-f5dc-4779-9243-e90f3578051d",
      "metadata": {
        "id": "81c9b73f-f5dc-4779-9243-e90f3578051d"
      },
      "source": [
        "To do:\n",
        "- Use spotchecking technique to evaluate the performance of kNN, logistic regression, Gaussian naive bayes, support vector machine, decision tree, random forest, gradient boosting trees and MLP classifiers on the scaled features.\n",
        "- Use stratified k-folds cross-validation with 5 folds.\n",
        "- Print the mean and standard deviation of the accuracies"
      ]
    },
    {
      "cell_type": "code",
      "execution_count": null,
      "id": "1f6d9508-d2b0-4ef9-aa87-a1cd0ddf9867",
      "metadata": {
        "id": "1f6d9508-d2b0-4ef9-aa87-a1cd0ddf9867"
      },
      "outputs": [],
      "source": []
    },
    {
      "cell_type": "markdown",
      "id": "ff115fd3-287d-4619-ac14-f36aeaf788ef",
      "metadata": {
        "id": "ff115fd3-287d-4619-ac14-f36aeaf788ef"
      },
      "source": [
        "To do:\n",
        "- Choose the best performing model\n",
        "- Train the model using the training set and evaluate its performance using the test set"
      ]
    },
    {
      "cell_type": "code",
      "execution_count": null,
      "id": "4739f2ed-3934-49f5-adbe-a1db8f99277e",
      "metadata": {
        "id": "4739f2ed-3934-49f5-adbe-a1db8f99277e"
      },
      "outputs": [],
      "source": []
    },
    {
      "cell_type": "markdown",
      "id": "4ef3d714-88f1-4857-b1bd-25d0ebcd7a17",
      "metadata": {
        "id": "4ef3d714-88f1-4857-b1bd-25d0ebcd7a17"
      },
      "source": [
        "To do: Print the classification report"
      ]
    },
    {
      "cell_type": "code",
      "execution_count": null,
      "id": "849989cf-d1d6-49bb-971e-2eeb1609e49c",
      "metadata": {
        "id": "849989cf-d1d6-49bb-971e-2eeb1609e49c"
      },
      "outputs": [],
      "source": []
    },
    {
      "cell_type": "markdown",
      "id": "98856fe5-8811-4115-886c-3b680d30674e",
      "metadata": {
        "id": "98856fe5-8811-4115-886c-3b680d30674e"
      },
      "source": [
        "To do: Plot the confusion matrix"
      ]
    },
    {
      "cell_type": "code",
      "execution_count": null,
      "id": "8806b4e2-4ae4-40ce-9c4f-37f97018338b",
      "metadata": {
        "id": "8806b4e2-4ae4-40ce-9c4f-37f97018338b"
      },
      "outputs": [],
      "source": []
    }
  ],
  "metadata": {
    "kernelspec": {
      "display_name": "Python 3 (ipykernel)",
      "language": "python",
      "name": "python3"
    },
    "language_info": {
      "codemirror_mode": {
        "name": "ipython",
        "version": 3
      },
      "file_extension": ".py",
      "mimetype": "text/x-python",
      "name": "python",
      "nbconvert_exporter": "python",
      "pygments_lexer": "ipython3",
      "version": "3.12.9"
    },
    "colab": {
      "provenance": [],
      "include_colab_link": true
    }
  },
  "nbformat": 4,
  "nbformat_minor": 5
}