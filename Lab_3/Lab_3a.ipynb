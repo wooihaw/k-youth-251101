{
 "cells": [
  {
   "cell_type": "markdown",
   "id": "9acdec19",
   "metadata": {
    "id": "9acdec19"
   },
   "source": [
    "## Lab 3a\n",
    "#### Build 3 classification models to classify faulty steel plates. The dataset contains information about steel plates and their faults. There are 27 features and the data samples have been classified into 7 different types of steel plate faults."
   ]
  },
  {
   "cell_type": "code",
   "execution_count": null,
   "id": "6481264f",
   "metadata": {
    "id": "6481264f",
    "tags": []
   },
   "outputs": [],
   "source": [
    "# Initialization\n",
    "%matplotlib inline\n",
    "from warnings import filterwarnings\n",
    "filterwarnings('ignore')"
   ]
  },
  {
   "cell_type": "code",
   "execution_count": null,
   "id": "1ae13063",
   "metadata": {
    "id": "1ae13063",
    "tags": []
   },
   "outputs": [],
   "source": [
    "# Load the required libraries\n",
    "import sys\n",
    "from pandas import read_csv\n",
    "from sklearn.model_selection import train_test_split as split, StratifiedKFold, cross_val_score\n",
    "from sklearn.neighbors import KNeighborsClassifier\n",
    "from sklearn.linear_model import LogisticRegression\n",
    "from sklearn.naive_bayes import GaussianNB\n",
    "from sklearn.svm import SVC\n",
    "from sklearn.tree import DecisionTreeClassifier\n",
    "from sklearn.ensemble import RandomForestClassifier\n",
    "from sklearn.ensemble import GradientBoostingClassifier\n",
    "from sklearn.neural_network import MLPClassifier\n",
    "from sklearn.preprocessing import StandardScaler\n",
    "from sklearn.decomposition import PCA\n",
    "from sklearn.metrics import classification_report, ConfusionMatrixDisplay"
   ]
  },
  {
   "cell_type": "code",
   "execution_count": null,
   "id": "5dbfb794",
   "metadata": {
    "id": "5dbfb794",
    "tags": []
   },
   "outputs": [],
   "source": [
    "# Load the dataset\n",
    "df = read_csv(\"https://raw.githubusercontent.com/wooihaw/datasets/main/steel_faults.csv\")"
   ]
  },
  {
   "cell_type": "markdown",
   "id": "f1ac88e3",
   "metadata": {
    "id": "f1ac88e3"
   },
   "source": [
    "**To do:**\n",
    "- Print 5 random data samples from the dataset"
   ]
  },
  {
   "cell_type": "code",
   "execution_count": null,
   "id": "a3f0b6ab",
   "metadata": {
    "id": "a3f0b6ab",
    "tags": []
   },
   "outputs": [],
   "source": []
  },
  {
   "cell_type": "markdown",
   "id": "c01cb8e5",
   "metadata": {
    "id": "c01cb8e5"
   },
   "source": [
    "**To do:**\n",
    "- Separate the dataset into features (X) and targets (y)"
   ]
  },
  {
   "cell_type": "code",
   "execution_count": null,
   "id": "60dcdb69",
   "metadata": {
    "id": "60dcdb69",
    "tags": []
   },
   "outputs": [],
   "source": []
  },
  {
   "cell_type": "markdown",
   "id": "393434bf-4d89-4b13-90d2-14e31a7fb64b",
   "metadata": {},
   "source": [
    "**To do:**  \n",
    "- Split the dataset to training (75%) and testing (25%) sets"
   ]
  },
  {
   "cell_type": "code",
   "execution_count": null,
   "id": "891ed473-c42c-4a2c-b9b8-ea23f98a9a9c",
   "metadata": {},
   "outputs": [],
   "source": []
  },
  {
   "cell_type": "markdown",
   "id": "a354ee9c",
   "metadata": {
    "id": "a354ee9c"
   },
   "source": [
    "**To do:**\n",
    "- Use spotchecking technique to evaluate the performance of kNN, logistic regression, Gaussian naive bayes, support vector machine, decision tree, random forest, gradient boosting trees and MLP classifiers.\n",
    "- Use stratified k-folds cross-validation with 5 folds.\n",
    "- Print the mean and standard deviation of the accuracies"
   ]
  },
  {
   "cell_type": "code",
   "execution_count": null,
   "id": "89c13b59",
   "metadata": {
    "id": "89c13b59",
    "tags": []
   },
   "outputs": [],
   "source": []
  },
  {
   "cell_type": "markdown",
   "id": "6b870137",
   "metadata": {
    "id": "6b870137"
   },
   "source": [
    "**To do:**\n",
    "- Peform feature scaling using standard scaler.\n",
    "- Use spotchecking technique to evaluate the performance of kNN, logistic regression, Gaussian naive bayes, support vector machine, decision tree, random forest, gradient boosting trees and MLP classifiers on the scaled features.\n",
    "- Use stratified k-folds cross-validation with 5 folds.\n",
    "- Print the mean and standard deviation of the accuracies"
   ]
  },
  {
   "cell_type": "code",
   "execution_count": null,
   "id": "dd8607c8",
   "metadata": {
    "id": "dd8607c8",
    "tags": []
   },
   "outputs": [],
   "source": []
  },
  {
   "cell_type": "markdown",
   "id": "29c9798a",
   "metadata": {
    "id": "29c9798a"
   },
   "source": [
    "**To do:**\n",
    "- Use Principle Component Analysis (PCA) to reduce the dimensionality of the scaled features to 13.\n",
    "- Use spotchecking technique to evaluate the performance of kNN, logistic regression, Gaussian naive bayes, support vector machine, decision tree, random forest, gradient boosting trees and MLP classifiers on these features.\n",
    "- Use stratified k-folds cross-validation with 5 folds.\n",
    "- Print the mean and standard deviation of the accuracies"
   ]
  },
  {
   "cell_type": "code",
   "execution_count": null,
   "id": "8585e37c",
   "metadata": {
    "id": "8585e37c",
    "tags": []
   },
   "outputs": [],
   "source": []
  },
  {
   "cell_type": "markdown",
   "id": "138ef1a4-a1bc-4105-8f2b-5d369d74db1a",
   "metadata": {},
   "source": [
    "**To do:**\n",
    "- Choose the best performing model\n",
    "- Train the model using the training set and evaluate its performance using the test set"
   ]
  },
  {
   "cell_type": "code",
   "execution_count": null,
   "id": "078208b5-bbaa-4535-abb7-212d8f18e47b",
   "metadata": {},
   "outputs": [],
   "source": []
  },
  {
   "cell_type": "markdown",
   "id": "5585e942-9e39-4289-b739-232751d5f967",
   "metadata": {},
   "source": [
    "**To do:** Print the classification report"
   ]
  },
  {
   "cell_type": "code",
   "execution_count": null,
   "id": "9e1d5637-d738-470f-9d19-44f502a46356",
   "metadata": {},
   "outputs": [],
   "source": []
  },
  {
   "cell_type": "markdown",
   "id": "10bec631-488d-4097-8334-4656e3df98cd",
   "metadata": {},
   "source": [
    "**To do:** Plot the confusion matrix"
   ]
  },
  {
   "cell_type": "code",
   "execution_count": null,
   "id": "da0a0808-6be8-4766-bd6c-42ff1dc7118a",
   "metadata": {},
   "outputs": [],
   "source": []
  }
 ],
 "metadata": {
  "colab": {
   "include_colab_link": true,
   "provenance": []
  },
  "kernelspec": {
   "display_name": "Python 3 (ipykernel)",
   "language": "python",
   "name": "python3"
  },
  "language_info": {
   "codemirror_mode": {
    "name": "ipython",
    "version": 3
   },
   "file_extension": ".py",
   "mimetype": "text/x-python",
   "name": "python",
   "nbconvert_exporter": "python",
   "pygments_lexer": "ipython3",
   "version": "3.12.9"
  }
 },
 "nbformat": 4,
 "nbformat_minor": 5
}
