{
  "cells": [
    {
      "cell_type": "markdown",
      "metadata": {
        "id": "view-in-github",
        "colab_type": "text"
      },
      "source": [
        "<a href=\"https://colab.research.google.com/github/wooihaw/k-youth-251101/blob/main/Lab_1/Lab_1a.ipynb\" target=\"_parent\"><img src=\"https://colab.research.google.com/assets/colab-badge.svg\" alt=\"Open In Colab\"/></a>"
      ]
    },
    {
      "cell_type": "markdown",
      "metadata": {
        "id": "5uyMz8cYSzzA"
      },
      "source": [
        "## Lab 1a\n",
        "#### The objective of this lab is to go through 6 stages of machine learning workflow."
      ]
    },
    {
      "cell_type": "code",
      "execution_count": null,
      "metadata": {
        "id": "pEV_ImI6SzzF"
      },
      "outputs": [],
      "source": [
        "# Initialization\n",
        "%matplotlib inline\n",
        "import warnings\n",
        "warnings.filterwarnings('ignore')"
      ]
    },
    {
      "cell_type": "code",
      "execution_count": null,
      "metadata": {
        "id": "y6efYwvsSzzG"
      },
      "outputs": [],
      "source": [
        "# Load the required libraries\n",
        "import numpy as np\n",
        "from pandas import read_csv\n",
        "from matplotlib import pyplot as plt\n",
        "from sklearn.neighbors import KNeighborsClassifier\n",
        "from sklearn.model_selection import train_test_split as split\n",
        "from sklearn.preprocessing import MinMaxScaler\n",
        "from sklearn.preprocessing import LabelEncoder"
      ]
    },
    {
      "cell_type": "markdown",
      "metadata": {
        "id": "wI8USVD_SzzH"
      },
      "source": [
        "### Stage 1 Problem statement\n",
        "- To predict the gender based on height and weight"
      ]
    },
    {
      "cell_type": "markdown",
      "metadata": {
        "id": "ty8pCvpfSzzH"
      },
      "source": [
        "### Stage 2 Data collection\n",
        "- Collect the required data to solve the problem"
      ]
    },
    {
      "cell_type": "code",
      "execution_count": null,
      "metadata": {
        "id": "UrEpbdXISzzI"
      },
      "outputs": [],
      "source": [
        "# load dataset\n",
        "df = read_csv(\"https://raw.githubusercontent.com/wooihaw/datasets/main/heights_weights_genders.csv\")"
      ]
    },
    {
      "cell_type": "code",
      "execution_count": null,
      "metadata": {
        "id": "41u4JV6WSzzI"
      },
      "outputs": [],
      "source": [
        "# To do - check the number of rows and columns\n"
      ]
    },
    {
      "cell_type": "code",
      "execution_count": null,
      "metadata": {
        "id": "w5-BbSEsSzzJ"
      },
      "outputs": [],
      "source": [
        "# To do - Print the first 5 rows of data samples\n"
      ]
    },
    {
      "cell_type": "markdown",
      "metadata": {
        "id": "Tvz1hPL2SzzJ"
      },
      "source": [
        "### Stage 3 Data preprocessing\n",
        "- Prepare the data in the appropriate format and structure"
      ]
    },
    {
      "cell_type": "code",
      "execution_count": null,
      "metadata": {
        "scrolled": true,
        "id": "ASNICKfkSzzK"
      },
      "outputs": [],
      "source": [
        "# To do - Seperate the dataset into features (X) and label (y)\n"
      ]
    },
    {
      "cell_type": "code",
      "execution_count": null,
      "metadata": {
        "id": "9j4RXgdVSzzK"
      },
      "outputs": [],
      "source": [
        "# To do - split into training and testing sets\n"
      ]
    },
    {
      "cell_type": "markdown",
      "metadata": {
        "id": "CeSp1w5uSzzK"
      },
      "source": [
        "### Stage 4 Modeling\n",
        "- Build the model to solve the problem"
      ]
    },
    {
      "cell_type": "code",
      "execution_count": null,
      "metadata": {
        "id": "tdkQN9GtSzzK"
      },
      "outputs": [],
      "source": [
        "# KNN classifier\n",
        "knn = KNeighborsClassifier().fit(X_train, y_train)"
      ]
    },
    {
      "cell_type": "markdown",
      "metadata": {
        "id": "jWd0mgx9SzzL"
      },
      "source": [
        "### Stage 5 Evaluation\n",
        "- Evaluate the performe of the model"
      ]
    },
    {
      "cell_type": "code",
      "execution_count": null,
      "metadata": {
        "id": "7_CplYtxSzzL"
      },
      "outputs": [],
      "source": [
        "print(f'KNN accuracy: {knn.score(X_test, y_test):.2%}')"
      ]
    },
    {
      "cell_type": "markdown",
      "metadata": {
        "id": "jG4KKJgrSzzL"
      },
      "source": [
        "### Stage 6 Deployment\n",
        "- Deploy the model for problem solving"
      ]
    },
    {
      "cell_type": "code",
      "execution_count": null,
      "metadata": {
        "tags": [],
        "id": "io6r1Mf6SzzL"
      },
      "outputs": [],
      "source": [
        "# Make prediction based on user input\n",
        "try:\n",
        "    h = float(input('Please enter height (cm): '))\n",
        "    w = float(input('Please enter weight (kg): '))\n",
        "    assert 0 < h < 300 and 0 < w < 300, \"Value out of range\"\n",
        "except ValueError:\n",
        "    print(\"Invalid input! Please only enter number\")\n",
        "except AssertionError as e:\n",
        "    print(\"Error! \", e)\n",
        "else:\n",
        "    res1 = knn.predict([[h, w]])\n",
        "    print(f'kNN predicts: {res1}')"
      ]
    }
  ],
  "metadata": {
    "kernelspec": {
      "display_name": "Python 3 (ipykernel)",
      "language": "python",
      "name": "python3"
    },
    "language_info": {
      "codemirror_mode": {
        "name": "ipython",
        "version": 3
      },
      "file_extension": ".py",
      "mimetype": "text/x-python",
      "name": "python",
      "nbconvert_exporter": "python",
      "pygments_lexer": "ipython3",
      "version": "3.12.4"
    },
    "colab": {
      "provenance": [],
      "include_colab_link": true
    }
  },
  "nbformat": 4,
  "nbformat_minor": 0
}