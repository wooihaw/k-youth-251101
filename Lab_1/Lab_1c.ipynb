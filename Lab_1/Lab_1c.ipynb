{
  "cells": [
    {
      "cell_type": "markdown",
      "metadata": {
        "id": "view-in-github",
        "colab_type": "text"
      },
      "source": [
        "<a href=\"https://colab.research.google.com/github/wooihaw/k-youth-251101/blob/main/Lab_1/Lab_1c.ipynb\" target=\"_parent\"><img src=\"https://colab.research.google.com/assets/colab-badge.svg\" alt=\"Open In Colab\"/></a>"
      ]
    },
    {
      "cell_type": "markdown",
      "metadata": {
        "id": "oXfG25A7Vu1G"
      },
      "source": [
        "## Lab 1c\n",
        "#### This lab highlights the important of feature scaling for machine learning algorithms (e.g. k-NN) which rely on distance measurement."
      ]
    },
    {
      "cell_type": "code",
      "execution_count": null,
      "metadata": {
        "tags": [],
        "id": "rYR4Z6WbVu1L"
      },
      "outputs": [],
      "source": [
        "# Initialization\n",
        "%matplotlib inline\n",
        "from warnings import filterwarnings\n",
        "filterwarnings('ignore')"
      ]
    },
    {
      "cell_type": "code",
      "execution_count": null,
      "metadata": {
        "tags": [],
        "id": "PjcbSvKUVu1N"
      },
      "outputs": [],
      "source": [
        "# Load libraries\n",
        "from pandas import read_csv\n",
        "import matplotlib.pyplot as plt\n",
        "from sklearn.model_selection import train_test_split as split\n",
        "from sklearn.neighbors import KNeighborsClassifier\n",
        "\n",
        "# Load dataset from csv file\n",
        "df = read_csv('https://raw.githubusercontent.com/wooihaw/datasets/main/rescale.csv')\n",
        "\n",
        "# To do - use the DataFrame's describe() method to calculate the descriptive statistics\n"
      ]
    },
    {
      "cell_type": "markdown",
      "metadata": {
        "id": "Ev0Eezn5Vu1O"
      },
      "source": [
        "Prepare the dataset"
      ]
    },
    {
      "cell_type": "code",
      "execution_count": null,
      "metadata": {
        "tags": [],
        "id": "en_CKLzxVu1O"
      },
      "outputs": [],
      "source": [
        "# To do - Seperate to features (X) and target (y)\n",
        "\n",
        "\n",
        "# To do - Split to training (X_train, y_train) and testing (X_test, y_test) sets (25% for testing)\n"
      ]
    },
    {
      "cell_type": "markdown",
      "metadata": {
        "id": "S-UUp5zSVu1P"
      },
      "source": [
        "Train a k-NN classifer and evaluate its performance on the dataset"
      ]
    },
    {
      "cell_type": "code",
      "execution_count": null,
      "metadata": {
        "tags": [],
        "id": "6IfPZ2zWVu1P"
      },
      "outputs": [],
      "source": [
        "knn1 = KNeighborsClassifier().fit(X_train, y_train)\n",
        "print(f'knn1 acurracy: {knn1.score(X_test, y_test):.2%}')"
      ]
    },
    {
      "cell_type": "markdown",
      "metadata": {
        "id": "YftT9WZXVu1Q"
      },
      "source": [
        "Use MinMaxScaler to scale the features and plot the resulting scaled features."
      ]
    },
    {
      "cell_type": "code",
      "execution_count": null,
      "metadata": {
        "id": "_U2TdsT7Vu1R"
      },
      "outputs": [],
      "source": [
        "# To do - Load appropriate library to import MinMaxScaler\n",
        "\n",
        "\n",
        "# To do - Perform feature scaling using MinMaxScaler\n"
      ]
    },
    {
      "cell_type": "code",
      "execution_count": null,
      "metadata": {
        "id": "ejrF5JolVu1R"
      },
      "outputs": [],
      "source": [
        "#To do - Train a kNN classifier based on the scaled features and evaluate its performance\n"
      ]
    }
  ],
  "metadata": {
    "kernelspec": {
      "display_name": "Python 3 (ipykernel)",
      "language": "python",
      "name": "python3"
    },
    "language_info": {
      "codemirror_mode": {
        "name": "ipython",
        "version": 3
      },
      "file_extension": ".py",
      "mimetype": "text/x-python",
      "name": "python",
      "nbconvert_exporter": "python",
      "pygments_lexer": "ipython3",
      "version": "3.12.4"
    },
    "colab": {
      "provenance": [],
      "include_colab_link": true
    }
  },
  "nbformat": 4,
  "nbformat_minor": 0
}