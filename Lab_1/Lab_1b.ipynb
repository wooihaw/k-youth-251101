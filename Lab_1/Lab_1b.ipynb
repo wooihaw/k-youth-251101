{
  "cells": [
    {
      "cell_type": "markdown",
      "metadata": {
        "id": "view-in-github",
        "colab_type": "text"
      },
      "source": [
        "<a href=\"https://colab.research.google.com/github/wooihaw/k-youth-251101/blob/main/Lab_1/Lab_1b.ipynb\" target=\"_parent\"><img src=\"https://colab.research.google.com/assets/colab-badge.svg\" alt=\"Open In Colab\"/></a>"
      ]
    },
    {
      "cell_type": "markdown",
      "metadata": {
        "id": "gotZudSCUJ1p"
      },
      "source": [
        "## Lab 1b\n",
        "#### This lab explores the encoding of categorical data and data imputation"
      ]
    },
    {
      "cell_type": "code",
      "execution_count": null,
      "metadata": {
        "id": "AlwZItkKUJ1r"
      },
      "outputs": [],
      "source": [
        "# Initialization\n",
        "%matplotlib inline\n",
        "from warnings import filterwarnings\n",
        "filterwarnings('ignore')"
      ]
    },
    {
      "cell_type": "code",
      "execution_count": null,
      "metadata": {
        "id": "8P36EpddUJ1t"
      },
      "outputs": [],
      "source": [
        "# Load libraries\n",
        "import numpy as np\n",
        "import pandas as pd\n",
        "from sklearn.model_selection import train_test_split as split\n",
        "from sklearn.neighbors import KNeighborsClassifier"
      ]
    },
    {
      "cell_type": "code",
      "execution_count": null,
      "metadata": {
        "id": "qgXDKfrwUJ1t"
      },
      "outputs": [],
      "source": [
        "# Load dataset from csv file and show the first 5 rows of data\n",
        "df = pd.read_csv(\"https://raw.githubusercontent.com/wooihaw/datasets/main/income.csv\")"
      ]
    },
    {
      "cell_type": "markdown",
      "metadata": {
        "id": "qYsH2o9KUJ1t"
      },
      "source": [
        "**To do**  \n",
        "- Print the first 5 rows of data samples"
      ]
    },
    {
      "cell_type": "code",
      "execution_count": null,
      "metadata": {
        "id": "daacHXIJUJ1t"
      },
      "outputs": [],
      "source": []
    },
    {
      "cell_type": "markdown",
      "metadata": {
        "id": "FPpgzMFDUJ1u"
      },
      "source": [
        "**To do:**\n",
        "- Check the number of rows and columns using the DataFrame's info() method"
      ]
    },
    {
      "cell_type": "code",
      "execution_count": null,
      "metadata": {
        "id": "ZvK1Y89ZUJ1u"
      },
      "outputs": [],
      "source": []
    },
    {
      "cell_type": "markdown",
      "metadata": {
        "id": "wouwGPR9UJ1u"
      },
      "source": [
        "**To do**  \n",
        "- Print the number of duplicated rows"
      ]
    },
    {
      "cell_type": "code",
      "execution_count": null,
      "metadata": {
        "id": "LMESaX9FUJ1u"
      },
      "outputs": [],
      "source": []
    },
    {
      "cell_type": "markdown",
      "metadata": {
        "id": "AvuN-XI2UJ1v"
      },
      "source": [
        "**To do:**\n",
        "- Remove duplicated rows if there are any"
      ]
    },
    {
      "cell_type": "code",
      "execution_count": null,
      "metadata": {
        "id": "__DUvOcLUJ1v"
      },
      "outputs": [],
      "source": []
    },
    {
      "cell_type": "markdown",
      "metadata": {
        "id": "oAVb5YHdUJ1v"
      },
      "source": [
        "**To do**  \n",
        "- Check the number of remaining rows using the DataFrame's info()"
      ]
    },
    {
      "cell_type": "code",
      "execution_count": null,
      "metadata": {
        "id": "KDA58iZOUJ1v"
      },
      "outputs": [],
      "source": []
    },
    {
      "cell_type": "markdown",
      "metadata": {
        "id": "fqXbHDrSUJ1v"
      },
      "source": [
        "**To do:**\n",
        "- Check the number of missing values for each column using the DataFrame's isna().sum() method"
      ]
    },
    {
      "cell_type": "code",
      "execution_count": null,
      "metadata": {
        "id": "3jIu4ldkUJ1v"
      },
      "outputs": [],
      "source": []
    },
    {
      "cell_type": "markdown",
      "metadata": {
        "id": "38WH3bQOUJ1v"
      },
      "source": [
        "**To do:**\n",
        "- Calculate descriptive statistics"
      ]
    },
    {
      "cell_type": "code",
      "execution_count": null,
      "metadata": {
        "id": "qe8mZknYUJ1v"
      },
      "outputs": [],
      "source": []
    },
    {
      "cell_type": "markdown",
      "metadata": {
        "id": "iaCGZQX5UJ1v"
      },
      "source": [
        "**To do:**\n",
        "- Replace missing values with NaN\n",
        "- Check the number of missing values for each column using the DataFrame's isna().sum() method"
      ]
    },
    {
      "cell_type": "code",
      "execution_count": null,
      "metadata": {
        "id": "rOkNg5vIUJ1w"
      },
      "outputs": [],
      "source": []
    },
    {
      "cell_type": "markdown",
      "metadata": {
        "id": "cqbO4fOKUJ1w"
      },
      "source": [
        "**To do**  \n",
        "- Print the first 5 rows of the resulting dataframe (df)"
      ]
    },
    {
      "cell_type": "code",
      "execution_count": null,
      "metadata": {
        "id": "K8NjqDvrUJ1w"
      },
      "outputs": [],
      "source": []
    },
    {
      "cell_type": "markdown",
      "metadata": {
        "id": "E3Zf3aOfUJ1w"
      },
      "source": [
        "**To do:**\n",
        "- Print unique values in the Education column."
      ]
    },
    {
      "cell_type": "code",
      "execution_count": null,
      "metadata": {
        "id": "bks9XUl_UJ1w"
      },
      "outputs": [],
      "source": []
    },
    {
      "cell_type": "markdown",
      "metadata": {
        "id": "61j6dCXWUJ1w"
      },
      "source": [
        "**To do:**\n",
        "- Define mapping for ordinal data\n",
        "- Encode ordinal data using map().\n",
        "- Print the first 5 rows of the resulting dataframe (df)."
      ]
    },
    {
      "cell_type": "code",
      "execution_count": null,
      "metadata": {
        "id": "190UENBMUJ1w"
      },
      "outputs": [],
      "source": []
    },
    {
      "cell_type": "markdown",
      "metadata": {
        "id": "kK8mHOe6UJ1w"
      },
      "source": [
        "**To do:**\n",
        "- Use pd.get_dummies() to encode nominal data using one-hot encoding and store the resulting dataframe in df1.\n",
        "- Print first 5 rows of df1 and verify that the resulting dataframe is correct."
      ]
    },
    {
      "cell_type": "code",
      "execution_count": null,
      "metadata": {
        "id": "6L-CAsXvUJ1w"
      },
      "outputs": [],
      "source": []
    },
    {
      "cell_type": "markdown",
      "metadata": {
        "id": "yPDmQzQUUJ1w"
      },
      "source": [
        "**To do:**\n",
        "- Rectify the problem in the previous step.\n",
        "- Use pd.get_dummies() to encode nominal data using one-hot encoding and store the resulting dataframe in df2.\n",
        "- Print the first 5 rows of df2."
      ]
    },
    {
      "cell_type": "code",
      "execution_count": null,
      "metadata": {
        "id": "5Is-wMiGUJ1w"
      },
      "outputs": [],
      "source": []
    },
    {
      "cell_type": "markdown",
      "metadata": {
        "id": "06pYiZwQUJ1w"
      },
      "source": [
        "**To do:**\n",
        "- Impute missing data with median value of the column\n",
        "- Check the number of missing values for each column using the DataFrame's isna().sum() method"
      ]
    },
    {
      "cell_type": "code",
      "execution_count": null,
      "metadata": {
        "id": "aafuzytPUJ1w"
      },
      "outputs": [],
      "source": []
    },
    {
      "cell_type": "markdown",
      "source": [
        "**To do**  \n",
        "- Seperate to feature (X) and target (y)\n",
        "- Split to training (X_train, y_train) and testing (X_test, y_test) sets (25% for testing)"
      ],
      "metadata": {
        "id": "RztCHTjhUr1y"
      }
    },
    {
      "cell_type": "code",
      "source": [],
      "metadata": {
        "id": "hFBBW9vyVBd_"
      },
      "execution_count": null,
      "outputs": []
    },
    {
      "cell_type": "markdown",
      "metadata": {
        "id": "Fb3x19NjUJ1w"
      },
      "source": [
        "Train and evaluate a k-Nearest Neighbors model"
      ]
    },
    {
      "cell_type": "code",
      "execution_count": null,
      "metadata": {
        "id": "j3r9EpZ3UJ1x"
      },
      "outputs": [],
      "source": [
        "# Train and evaluate a knn model\n",
        "knn = KNeighborsClassifier().fit(X_train, y_train)\n",
        "print(f\"knn accuracy: {knn.score(X_test, y_test):.2%}\")"
      ]
    }
  ],
  "metadata": {
    "kernelspec": {
      "display_name": "Python 3 (ipykernel)",
      "language": "python",
      "name": "python3"
    },
    "language_info": {
      "codemirror_mode": {
        "name": "ipython",
        "version": 3
      },
      "file_extension": ".py",
      "mimetype": "text/x-python",
      "name": "python",
      "nbconvert_exporter": "python",
      "pygments_lexer": "ipython3",
      "version": "3.12.4"
    },
    "colab": {
      "provenance": [],
      "include_colab_link": true
    }
  },
  "nbformat": 4,
  "nbformat_minor": 0
}